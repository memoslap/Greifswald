{
 "cells": [
  {
   "cell_type": "code",
   "execution_count": 14,
   "id": "ece85e36-9732-4c6d-aca7-092f339db072",
   "metadata": {},
   "outputs": [],
   "source": [
    "\n",
    "import os\n",
    "import re\n",
    "import matplotlib.pyplot as plt\n",
    "import polars as pl\n",
    "import sbj_level_pl as sl\n",
    "import shutil\n",
    "import plots\n"
   ]
  },
  {
   "cell_type": "code",
   "execution_count": 15,
   "id": "2cb85a68-4d64-4bc5-b83c-37fe4821d9de",
   "metadata": {},
   "outputs": [],
   "source": [
    "base_path=\"/media/Data03/Studies/MeMoSLAP\" # do not change!\n",
    "output_path= \"/media/Data03/Studies/MeMoSLAP/derivatives/preprocessing/test\" #change depending on your preprocessing folder\n",
    " "
   ]
  },
  {
   "cell_type": "code",
   "execution_count": 20,
   "id": "9ab041f3-88c5-4f7b-a00c-77b3794693a7",
   "metadata": {},
   "outputs": [],
   "source": [
    " list_sub=[a for a in os.listdir(base_path) if os.path.isdir(os.path.join(base_path, a))and a.startswith('sub-')]"
   ]
  },
  {
   "cell_type": "code",
   "execution_count": 22,
   "id": "b9b10cf9-6f00-417d-a8bc-575f2eab3732",
   "metadata": {},
   "outputs": [],
   "source": [
    "ist_ses=[]\n",
    "for sub in list_sub:\n",
    "    list_ses.append([a for a in os.listdir(os.path.join(base_path,sub)) if os.path.isdir(os.path.join(base_path,sub, a))])"
   ]
  },
  {
   "cell_type": "code",
   "execution_count": 4,
   "id": "2341dee3-da2e-4ed1-8dd9-c9c492d8d2e9",
   "metadata": {},
   "outputs": [],
   "source": [
    "list_ses=[]\n",
    "for sub in list_sub:\n",
    "    list_ses.append([a for a in os.listdir(os.path.join(base_path,sub)) if os.path.isdir(os.path.join(base_path,sub, a))])\n",
    "    "
   ]
  },
  {
   "cell_type": "code",
   "execution_count": 24,
   "id": "9550b34f-ddad-4298-b69e-cc663ddbf28e",
   "metadata": {},
   "outputs": [],
   "source": [
    " def tweak_data(data: pl.DataFrame) -> pl.DataFrame:\n",
    "    response_time = get_response_time(data)\n",
    "    responses = data.pipe(filter_data).pipe(get_responses)\n",
    "    stimuli = data.pipe(filter_data).pipe(get_stimuli)\n",
    "\n",
    "    return (\n",
    "        stimuli.join(response_time, on=\"Trial\", how=\"left\")\n",
    "        .join(responses, on=\"Trial\", how=\"left\")\n",
    "        .sort(\"Trial\")\n",
    "    )\n",
    "     \n"
   ]
  }
 ],
 "metadata": {
  "kernelspec": {
   "display_name": "Python 3 (ipykernel)",
   "language": "python",
   "name": "python3"
  },
  "language_info": {
   "codemirror_mode": {
    "name": "ipython",
    "version": 3
   },
   "file_extension": ".py",
   "mimetype": "text/x-python",
   "name": "python",
   "nbconvert_exporter": "python",
   "pygments_lexer": "ipython3",
   "version": "3.11.8"
  }
 },
 "nbformat": 4,
 "nbformat_minor": 5
}
